{
 "cells": [
  {
   "cell_type": "markdown",
   "metadata": {},
   "source": [
    "TELEDATA"
   ]
  },
  {
   "cell_type": "code",
   "execution_count": 1,
   "metadata": {},
   "outputs": [],
   "source": [
    "from qiskit import QuantumCircuit, QuantumRegister, ClassicalRegister"
   ]
  },
  {
   "cell_type": "code",
   "execution_count": 2,
   "metadata": {},
   "outputs": [
    {
     "name": "stdout",
     "output_type": "stream",
     "text": [
      "                ░      ┌───┐ ░ ┌─┐    ░            \n",
      "q_0: ───────────░───■──┤ H ├─░─┤M├────░──■─────────\n",
      "     ┌───┐      ░ ┌─┴─┐└───┘ ░ └╥┘┌─┐ ░  │         \n",
      "q_1: ┤ H ├──■───░─┤ X ├──────░──╫─┤M├─░──┼───■─────\n",
      "     └───┘┌─┴─┐ ░ └───┘      ░  ║ └╥┘ ░  │ ┌─┴─┐┌─┐\n",
      "q_2: ─────┤ X ├─░────────────░──╫──╫──░──■─┤ X ├┤M├\n",
      "          └───┘ ░            ░  ║  ║  ░    └───┘└╥┘\n",
      "c: 3/═══════════════════════════╩══╩═════════════╩═\n",
      "                                0  1             2 \n"
     ]
    }
   ],
   "source": [
    "# TeleData\n",
    "# Create a quantum circuit with 3 qubits and 3 classical bits\n",
    "circuit = QuantumCircuit(3, 3)\n",
    "\n",
    "# Step 1: Entangle qubits q1 and q2\n",
    "circuit.h(1) # Apply Hadamard to q1\n",
    "circuit.cx(1, 2) # Apply CNOT with q1 as control and q2 as target\n",
    "\n",
    "# Step 2: Prepare the initial state of q0 (the state to be teleported)\n",
    "circuit.barrier()\n",
    "circuit.cx(0, 1) # Apply CNOT with q0 as control and q1 as target\n",
    "circuit.h(0) # Apply Hadamard to q0\n",
    "\n",
    "# Step 3: Measure q0 and q1\n",
    "circuit.barrier()\n",
    "circuit.measure([0, 1], [0, 1])\n",
    "\n",
    "# Step 4: Apply corrections on q2 based on the measurement results of q0 and q1\n",
    "circuit.barrier()\n",
    "circuit.cz(0, 2) # Apply CZ gate controlled by q0 on q2\n",
    "circuit.cx(1, 2) # Apply CNOT controlled by q1 on q2\n",
    "\n",
    "# Measure q2 to complete the teleportation\n",
    "circuit.measure(2, 2)\n",
    "print(circuit.draw())"
   ]
  },
  {
   "cell_type": "markdown",
   "metadata": {},
   "source": [
    "TELEGATE"
   ]
  },
  {
   "cell_type": "code",
   "execution_count": 3,
   "metadata": {},
   "outputs": [
    {
     "name": "stdout",
     "output_type": "stream",
     "text": [
      "                ░                 \n",
      "q_0: ───────────░─────────────────\n",
      "     ┌───┐      ░ ┌───┐   ┌───┐┌─┐\n",
      "q_1: ┤ H ├──■───░─┤ X ├─■─┤ H ├┤M├\n",
      "     └───┘┌─┴─┐ ░ ├───┤ │ └┬─┬┘└╥┘\n",
      "q_2: ─────┤ X ├─░─┤ H ├─■──┤M├──╫─\n",
      "          └───┘ ░ └───┘    └╥┘  ║ \n",
      "c: 2/═══════════════════════╩═══╩═\n",
      "                            1   0 \n"
     ]
    }
   ],
   "source": [
    "# TeleGate\n",
    "# Create a quantum circuit with 3 qubits and 2 classical bits\n",
    "circuit2 = QuantumCircuit(3, 2)\n",
    "\n",
    "# Cat-Entangle q1 and q2\n",
    "circuit2.h(1) # Apply Hadamard to q1\n",
    "circuit2.cx(1, 2) # Apply CNOT with q1 as control and q2 as target\n",
    "\n",
    "# Apply additional gates\n",
    "circuit2.barrier()\n",
    "circuit2.x(1) # Apply Pauli-X to q1\n",
    "circuit2.h(2) # Apply Hadamard to q2\n",
    "\n",
    "# Cat-Disentangle\n",
    "circuit2.cz(1, 2) # Apply controlled-Z between q1 and q2\n",
    "circuit2.h(1) # Apply Hadamard to q1\n",
    "\n",
    "# Measure q1 and q2\n",
    "circuit2.measure([1, 2], [0, 1])\n",
    "print(circuit2.draw())"
   ]
  },
  {
   "cell_type": "code",
   "execution_count": 1,
   "metadata": {},
   "outputs": [
    {
     "name": "stdout",
     "output_type": "stream",
     "text": [
      "Collecting python-louvain\n",
      "  Using cached python-louvain-0.16.tar.gz (204 kB)\n",
      "  Installing build dependencies: started\n",
      "  Installing build dependencies: finished with status 'done'\n",
      "  Getting requirements to build wheel: started\n",
      "  Getting requirements to build wheel: finished with status 'done'\n",
      "  Installing backend dependencies: started\n",
      "  Installing backend dependencies: finished with status 'done'\n",
      "  Preparing metadata (pyproject.toml): started\n",
      "  Preparing metadata (pyproject.toml): finished with status 'done'\n",
      "Requirement already satisfied: networkx in c:\\users\\asus\\appdata\\local\\programs\\python\\python38\\lib\\site-packages (from python-louvain) (3.1)\n",
      "Requirement already satisfied: numpy in c:\\users\\asus\\appdata\\local\\programs\\python\\python38\\lib\\site-packages (from python-louvain) (1.24.4)\n",
      "Building wheels for collected packages: python-louvain\n",
      "  Building wheel for python-louvain (pyproject.toml): started\n",
      "  Building wheel for python-louvain (pyproject.toml): finished with status 'done'\n",
      "  Created wheel for python-louvain: filename=python_louvain-0.16-py3-none-any.whl size=9403 sha256=c54277ea280874ca1ed8938bbcea91f433f793e4d9aa48a829ea7807755bb43a\n",
      "  Stored in directory: c:\\users\\asus\\appdata\\local\\pip\\cache\\wheels\\af\\40\\91\\ef3635f7d3ddbd889b5af9f1ac22b8d30c48d6f744cd74a6d1\n",
      "Successfully built python-louvain\n",
      "Installing collected packages: python-louvain\n",
      "Successfully installed python-louvain-0.16\n",
      "Note: you may need to restart the kernel to use updated packages.\n"
     ]
    }
   ],
   "source": [
    "# pip install python-louvain"
   ]
  },
  {
   "cell_type": "markdown",
   "metadata": {},
   "source": [
    "TELEDATA GATE"
   ]
  },
  {
   "cell_type": "code",
   "execution_count": 4,
   "metadata": {},
   "outputs": [
    {
     "name": "stdout",
     "output_type": "stream",
     "text": [
      "     ┌───────────┐\n",
      "q_0: ┤0          ├\n",
      "     │           │\n",
      "q_1: ┤1          ├\n",
      "     │           │\n",
      "q_2: ┤2          ├\n",
      "     │  Teledata │\n",
      "c_0: ╡0          ╞\n",
      "     │           │\n",
      "c_1: ╡1          ╞\n",
      "     │           │\n",
      "c_2: ╡2          ╞\n",
      "     └───────────┘\n"
     ]
    },
    {
     "name": "stderr",
     "output_type": "stream",
     "text": [
      "c:\\Users\\Asus\\AppData\\Local\\Programs\\Python\\Python38\\lib\\site-packages\\qiskit\\circuit\\quantumcircuit.py:1800: RuntimeWarning: Cregbundle set to False since an instruction needs to refer to individual classical wire\n",
      "  return circuit_drawer(\n"
     ]
    }
   ],
   "source": [
    "class TeledataGate:\n",
    "    def __init__(self):\n",
    "        self.definition = None\n",
    "        self._define()\n",
    "\n",
    "    def _define(self):\n",
    "        \"\"\"\n",
    "        Define the Teledata gate operation.\n",
    "        \"\"\"\n",
    "        qr = QuantumRegister(3, 'q')\n",
    "        cr = ClassicalRegister(3, 'c')\n",
    "        qc = QuantumCircuit(qr, cr, name='Teledata')\n",
    "\n",
    "        # Step 1: Entangle qubits q1 and q2\n",
    "        qc.h(qr[1])\n",
    "        qc.cx(qr[1], qr[2])\n",
    "\n",
    "        # Step 2: Prepare the initial state of q0 (the state to be teleported)\n",
    "        qc.barrier()\n",
    "        qc.cx(qr[0], qr[1])\n",
    "        qc.h(qr[0])\n",
    "\n",
    "        # Step 3: Measure q0 and q1\n",
    "        qc.barrier()\n",
    "        qc.measure([qr[0], qr[1]], [cr[0], cr[1]])\n",
    "\n",
    "        # Step 4: Apply corrections on q2 based on the measurement results of q0 and q1\n",
    "        qc.barrier()\n",
    "        qc.cz(qr[0], qr[2])\n",
    "        qc.cx(qr[1], qr[2])\n",
    "\n",
    "        # Measure q2 to complete the teleportation\n",
    "        qc.measure(qr[2], cr[2])\n",
    "\n",
    "        self.definition = qc\n",
    "\n",
    "    def __call__(self, qubits, c, label=None):\n",
    "        \"\"\"\n",
    "        Call method to attach the Teledata gate to a circuit.\n",
    "        \"\"\"\n",
    "        if self.definition is None:\n",
    "            self._define()\n",
    "        return self.definition\n",
    "\n",
    "# Create a quantum circuit with 3 qubits and 3 classical bits\n",
    "circuit = QuantumCircuit(3, 3)\n",
    "\n",
    "\n",
    "# Add the Teledata gate to the circuit\n",
    "teledata_gate = TeledataGate()\n",
    "circuit.append(teledata_gate.definition, range(3), range(3))\n",
    "\n",
    "print(circuit.draw())\n"
   ]
  },
  {
   "cell_type": "markdown",
   "metadata": {},
   "source": [
    "TELEGATE GATE"
   ]
  },
  {
   "cell_type": "code",
   "execution_count": 5,
   "metadata": {},
   "outputs": [
    {
     "name": "stdout",
     "output_type": "stream",
     "text": [
      "     ┌───────────┐\n",
      "q_0: ┤0          ├\n",
      "     │           │\n",
      "q_1: ┤1          ├\n",
      "     │  TeleGate │\n",
      "c_0: ╡0          ╞\n",
      "     │           │\n",
      "c_1: ╡1          ╞\n",
      "     └───────────┘\n"
     ]
    }
   ],
   "source": [
    "from qiskit import QuantumCircuit, QuantumRegister, ClassicalRegister\n",
    "\n",
    "class TeleGateGate:\n",
    "    def __init__(self):\n",
    "        self.definition = None\n",
    "        self._define()\n",
    "\n",
    "    def _define(self):\n",
    "        \"\"\"\n",
    "        Define the TeleGate gate operation.\n",
    "        \"\"\"\n",
    "        qr = QuantumRegister(2, 'q')\n",
    "        cr = ClassicalRegister(2, 'c')\n",
    "        qc = QuantumCircuit(qr, cr, name='TeleGate')\n",
    "\n",
    "        # Cat-Entangle q1 and q2\n",
    "        qc.h(qr[0]) # Apply Hadamard to q1\n",
    "        qc.cx(qr[0], qr[1]) # Apply CNOT with q1 as control and q2 as target\n",
    "\n",
    "        # Apply additional gates\n",
    "        qc.barrier()\n",
    "        qc.x(qr[0]) # Apply Pauli-X to q1\n",
    "        qc.h(qr[1]) # Apply Hadamard to q2\n",
    "\n",
    "        # Cat-Disentangle\n",
    "        qc.cz(qr[1], qr[0]) # Apply controlled-Z between q1 and q2\n",
    "        qc.h(qr[1]) # Apply Hadamard to q1\n",
    "\n",
    "        # Measure q1 and q2\n",
    "        qc.measure([qr[0], qr[1]], [cr[0], cr[1]])\n",
    "\n",
    "        self.definition = qc\n",
    "\n",
    "    def __call__(self, qubits, c, label=None):\n",
    "        \"\"\"\n",
    "        Call method to attach the TeleGate gate to a circuit.\n",
    "        \"\"\"\n",
    "        if self.definition is None:\n",
    "            self._define()\n",
    "        return self.definition\n",
    "\n",
    "# Create a quantum circuit with 3 qubits and 2 classical bits\n",
    "circuit = QuantumCircuit(2, 2)\n",
    "\n",
    "# Add the TeleGate gate to the circuit\n",
    "telegate_gate = TeleGateGate()\n",
    "circuit.append(telegate_gate.definition, range(2), range(2))\n",
    "\n",
    "print(circuit.draw())\n"
   ]
  },
  {
   "cell_type": "markdown",
   "metadata": {},
   "source": [
    "CUSTOM CIRCUIT"
   ]
  },
  {
   "cell_type": "code",
   "execution_count": 6,
   "metadata": {},
   "outputs": [
    {
     "name": "stdout",
     "output_type": "stream",
     "text": [
      "     ┌───┐                               ┌───────────┐           \n",
      "q_0: ┤ X ├───────────────────────■────■──┤0          ├───────────\n",
      "     └───┘    ┌───┐              │    │  │           │           \n",
      "q_1: ──■──────┤ H ├──────────────┼────┼──┤1          ├─■──────■──\n",
      "     ┌─┴─┐┌───┴───┴───┐          │    │  │           │ │      │  \n",
      "q_2: ┤ X ├┤0          ├──────────┼────┼──┤2          ├─┼──■───┼──\n",
      "     ├───┤│           │          │  ┌─┴─┐│           │ │  │   │  \n",
      "q_3: ┤ H ├┤1          ├──■───■───┼──┤ X ├┤           ├─┼──■───┼──\n",
      "     └───┘│           │┌─┴─┐ │ ┌─┴─┐└───┘│  Teledata │ │    ┌─┴─┐\n",
      "q_4: ─────┤  TeleGate ├┤ X ├─■─┤ X ├─────┤           ├─■────┤ X ├\n",
      "          │           │└───┘   └───┘     │           │      └───┘\n",
      "c_0: ═════╡0          ╞══════════════════╡0          ╞═══════════\n",
      "          │           │                  │           │           \n",
      "c_1: ═════╡1          ╞══════════════════╡1          ╞═══════════\n",
      "          └───────────┘                  │           │           \n",
      "c_2: ════════════════════════════════════╡2          ╞═══════════\n",
      "                                         └───────────┘           \n"
     ]
    }
   ],
   "source": [
    "# Create a quantum circuit with 3 qubits and 3 classical bits\n",
    "circuit = QuantumCircuit(5, 3)\n",
    "# Add various quantum gates\n",
    "circuit.x(0)  # Pauli-X gate on q0\n",
    "circuit.h(3)  # Hadamard gate on q1\n",
    "circuit.cx(1, 2)  # CNOT gate with q1 as control and q2 as target\n",
    "\n",
    "# Add TeleGate operation\n",
    "telegate_gate = TeleGateGate()\n",
    "circuit.append(telegate_gate.definition, range(2,4), range(2))\n",
    "\n",
    "circuit.h(1)  # Hadamard gate on q0\n",
    "circuit.cx(3, 4)  # CNOT gate with q0 as control and q1 as target\n",
    "circuit.cz(3, 4)  # CZ gate with q1 as control and q2 as target\n",
    "circuit.cx(0,4)\n",
    "circuit.cx(0,3)\n",
    "\n",
    "# Add TeleData operation\n",
    "teledata_gate = TeledataGate()\n",
    "circuit.append(teledata_gate.definition, range(3), range(3))\n",
    "\n",
    "circuit.cz(1,4)\n",
    "circuit.cx(1,4)\n",
    "circuit.cz(3,2)\n",
    "\n",
    "print(circuit.draw())\n"
   ]
  },
  {
   "cell_type": "markdown",
   "metadata": {},
   "source": [
    "QUBIT ASSIGNMENT"
   ]
  },
  {
   "cell_type": "code",
   "execution_count": 108,
   "metadata": {},
   "outputs": [
    {
     "name": "stdout",
     "output_type": "stream",
     "text": [
      "{1: 0, 2: 0, 3: 1, 4: 1, 0: 0}\n"
     ]
    },
    {
     "data": {
      "image/png": "[encoded data removed]",
      "text/plain": [
       "<Figure size 640x480 with 1 Axes>"
      ]
     },
     "metadata": {},
     "output_type": "display_data"
    }
   ],
   "source": [
    "import networkx as nx\n",
    "import community.community_louvain as community\n",
    "import matplotlib.pyplot as plt\n",
    "\n",
    "# Convert quantum circuit to weighted graph\n",
    "graph = nx.Graph()\n",
    "def qubit_assignment(quantum_circuit, num_qpus):\n",
    "    # num_qubits = quantum_circuit.num_qubits\n",
    "    gate_count = {}  # Dictionary to store gate counts between qubits\n",
    "    for gate in quantum_circuit.data:\n",
    "        qargs = []\n",
    "        # print(gate[0].name)\n",
    "        for x in gate[1]:\n",
    "            temp = str(x)\n",
    "            qargs.append(int(temp[-2]))\n",
    "        qubits = [qubit for qubit in qargs]\n",
    "        \n",
    "        for i in range(len(qubits)):\n",
    "            for j in range(i + 1, len(qubits)):\n",
    "                q1, q2 = qubits[i], qubits[j]\n",
    "                if ((q1, q2) in gate_count.keys()):\n",
    "                    gate_count[(q1, q2)] += 1\n",
    "                else:\n",
    "                    gate_count[(q1, q2)] = 1\n",
    "\n",
    "    # Add weighted edges to the graph based on gate counts\n",
    "    for (q1, q2), count in gate_count.items():\n",
    "        graph.add_edge(q1, q2, weight=count)\n",
    "    \n",
    "    nx.draw(graph, with_labels = True)\n",
    "    # Perform graph partitioning using Louvain method\n",
    "    partition = community.best_partition(graph)\n",
    "    \n",
    "    # Map partition indices to QPUs\n",
    "    qubit_assignments = {}\n",
    "    for qubit, part in partition.items():\n",
    "        qubit_assignments[qubit] = part % num_qpus  # Ensure partitions are evenly distributed across QPUs\n",
    "    # plt.show\n",
    "    return qubit_assignments\n",
    "assign = qubit_assignment(circuit, 3)\n",
    "# Add group attribute to nodes\n",
    "\n",
    "nx.set_node_attributes(graph, assign, 'group')\n",
    "\n",
    "print(assign)"
   ]
  },
  {
   "cell_type": "markdown",
   "metadata": {},
   "source": [
    "CHECK IF THE GATE REQUIRES REMOTE OPERATION"
   ]
  },
  {
   "cell_type": "code",
   "execution_count": null,
   "metadata": {},
   "outputs": [],
   "source": [
    "def requires_remote_operation(gate):\n",
    "    curr_qpu = -1\n",
    "    qargs = []\n",
    "    for x in gate[1]:\n",
    "        temp = str(x)\n",
    "        qargs.append(int(temp[-2]))\n",
    "    for qb in qargs:\n",
    "        if curr_qpu!=-1 and assign[qb]!=curr_qpu:\n",
    "            return True\n",
    "        else:\n",
    "            if curr_qpu==-1:\n",
    "                curr_qpu = assign[qb]\n",
    "    return False"
   ]
  },
  {
   "cell_type": "markdown",
   "metadata": {},
   "source": [
    "REMOTE SCHEDULING"
   ]
  },
  {
   "cell_type": "code",
   "execution_count": 113,
   "metadata": {},
   "outputs": [
    {
     "name": "stdout",
     "output_type": "stream",
     "text": [
      "Instruction(name='TeleGate', num_qubits=2, num_clbits=2, params=[])\n",
      "Instruction(name='cx', num_qubits=2, num_clbits=0, params=[])\n",
      "Instruction(name='cx', num_qubits=2, num_clbits=0, params=[])\n",
      "Instruction(name='cz', num_qubits=2, num_clbits=0, params=[])\n",
      "Instruction(name='cx', num_qubits=2, num_clbits=0, params=[])\n",
      "Instruction(name='cz', num_qubits=2, num_clbits=0, params=[])\n"
     ]
    }
   ],
   "source": [
    "def remote_gate_scheduling(quantum_circuit, network_config, qubit_assignments):\n",
    "    scheduled_operations = []\n",
    "    covered_gate = []\n",
    "    n_epr = 0\n",
    "    tele_data_operation = 0\n",
    "    tele_gate_operation = 0\n",
    "    for gate in quantum_circuit.data:\n",
    "        if gate not in scheduled_operations and requires_remote_operation(gate):\n",
    "            if gate[0].name in ['h', 'x', 'y', 'z', 's', 't', 'rx', 'ry', 'rz', 'u1', 'u2', 'u3', 'id']:\n",
    "                covered_gate.append(gate)\n",
    "            if gate[0].name == 'cx': \n",
    "                n_epr+=1\n",
    "            elif gate[0].name == 'Teledata':\n",
    "                tele_data_operation += n_epr\n",
    "            elif gate[0].name == 'TeleGate':\n",
    "                tele_gate_operation += n_epr\n",
    "            if(tele_gate_operation<tele_data_operation):\n",
    "                scheduled_operations.append(gate)\n",
    "            else:\n",
    "                scheduled_operations.append(gate)\n",
    "            covered_gate.append(gate)    \n",
    "            \n",
    "    return scheduled_operations\n",
    "\n",
    "operations = remote_gate_scheduling(circuit, graph, assign)\n",
    "for opr in operations:\n",
    "    print(opr[0])"
   ]
  },
  {
   "cell_type": "code",
   "execution_count": 1,
   "metadata": {},
   "outputs": [
    {
     "ename": "ImportError",
     "evalue": "cannot import name 'execute' from 'qiskit' (c:\\Users\\Asus\\AppData\\Local\\Programs\\Python\\Python38\\lib\\site-packages\\qiskit\\__init__.py)",
     "output_type": "error",
     "traceback": [
      "\u001b[1;31m---------------------------------------------------------------------------\u001b[0m",
      "\u001b[1;31mImportError\u001b[0m                               Traceback (most recent call last)",
      "Cell \u001b[1;32mIn[1], line 2\u001b[0m\n\u001b[0;32m      1\u001b[0m \u001b[38;5;28;01mfrom\u001b[39;00m \u001b[38;5;21;01mqiskit_aer\u001b[39;00m \u001b[38;5;28;01mimport\u001b[39;00m Aer\n\u001b[1;32m----> 2\u001b[0m \u001b[38;5;28;01mfrom\u001b[39;00m \u001b[38;5;21;01mqiskit\u001b[39;00m \u001b[38;5;28;01mimport\u001b[39;00m execute\n\u001b[0;32m      3\u001b[0m \u001b[38;5;28;01mfrom\u001b[39;00m \u001b[38;5;21;01mqiskit\u001b[39;00m \u001b[38;5;28;01mimport\u001b[39;00m QuantumCircuit, QuantumRegister, ClassicalRegister\n\u001b[0;32m      4\u001b[0m \u001b[38;5;28;01mfrom\u001b[39;00m \u001b[38;5;21;01mqiskit\u001b[39;00m\u001b[38;5;21;01m.\u001b[39;00m\u001b[38;5;21;01mcircuit\u001b[39;00m\u001b[38;5;21;01m.\u001b[39;00m\u001b[38;5;21;01mlibrary\u001b[39;00m \u001b[38;5;28;01mimport\u001b[39;00m QFT\n",
      "\u001b[1;31mImportError\u001b[0m: cannot import name 'execute' from 'qiskit' (c:\\Users\\Asus\\AppData\\Local\\Programs\\Python\\Python38\\lib\\site-packages\\qiskit\\__init__.py)"
     ]
    }
   ],
   "source": [
    "from qiskit_aer import Aer\n",
    "from qiskit import transpile\n",
    "\n",
    "from qiskit import QuantumCircuit, QuantumRegister, ClassicalRegister\n",
    "from qiskit.circuit.library import QFT\n",
    "\n",
    "# VQE Implementation\n",
    "def vqe_ansatz(params):\n",
    "    qr = QuantumRegister(1)\n",
    "    cr = ClassicalRegister(1)\n",
    "    qc = QuantumCircuit(qr, cr)\n",
    "    qc.ry(params[0], qr[0])\n",
    "    return qc\n",
    "\n",
    "def expectation_value(qc):\n",
    "    # Example expectation value measurement\n",
    "    qc.measure(0, 0)\n",
    "    backend = Aer.get_backend('qasm_simulator')\n",
    "    job = transpile(circuit, backend)\n",
    "    job = backend.run(job)\n",
    "    # job = execute(qc, backend, shots=1000)\n",
    "    result = job.result()\n",
    "    counts = result.get_counts(qc)\n",
    "    expval = (counts.get('0', 0) - counts.get('1', 0)) / 1000\n",
    "    return expval\n",
    "\n",
    "def vqe():\n",
    "    # Example VQE implementation\n",
    "    initial_params = [0.0]\n",
    "    qc = vqe_ansatz(initial_params)\n",
    "    expval = expectation_value(qc)\n",
    "    return expval\n",
    "\n",
    "# QFT Implementation\n",
    "def qft():\n",
    "    qr = QuantumRegister(4)\n",
    "    qc = QuantumCircuit(qr)\n",
    "    qc.h(0)\n",
    "    qc.append(QFT(3), qr[:3])\n",
    "    return qc\n",
    "\n",
    "# Testing VQE and QFT\n",
    "print(\"VQE:\", vqe())\n",
    "qc_qft = qft()\n",
    "qc_qft.measure_all()\n",
    "print(\"QFT Circuit:\", qc_qft)\n"
   ]
  }
 ],
 "metadata": {
  "kernelspec": {
   "display_name": "Python 3",
   "language": "python",
   "name": "python3"
  },
  "language_info": {
   "codemirror_mode": {
    "name": "ipython",
    "version": 3
   },
   "file_extension": ".py",
   "mimetype": "text/x-python",
   "name": "python",
   "nbconvert_exporter": "python",
   "pygments_lexer": "ipython3",
   "version": "3.8.5"
  }
 },
 "nbformat": 4,
 "nbformat_minor": 2
}
